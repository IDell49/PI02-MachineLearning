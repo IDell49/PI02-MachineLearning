{
 "cells": [
  {
   "cell_type": "markdown",
   "metadata": {},
   "source": [
    "# Baseline model, super basic model, but upgraded the amount of features"
   ]
  },
  {
   "cell_type": "code",
   "execution_count": 33,
   "metadata": {},
   "outputs": [],
   "source": [
    "import pandas as pd\n",
    "import numpy as np\n",
    "import seaborn as sns\n",
    "from sklearn.preprocessing import MinMaxScaler\n",
    "from sklearn.tree import DecisionTreeClassifier\n",
    "from sklearn.model_selection import train_test_split\n",
    "from sklearn.metrics import recall_score"
   ]
  },
  {
   "cell_type": "code",
   "execution_count": 34,
   "metadata": {},
   "outputs": [],
   "source": [
    "df_train = pd.read_csv('../Datasets_for_model/properties_colombia_train.csv')\n",
    "df_test = pd.read_csv('../Datasets_for_model/properties_colombia_test.csv')"
   ]
  },
  {
   "cell_type": "code",
   "execution_count": 35,
   "metadata": {},
   "outputs": [],
   "source": [
    "#1) create target feature, which will be the result of price being equal or above the mean\n",
    "df_train.loc[df_train['price'] <  df_train.price.mean(), 'target'] = int(0)\n",
    "df_train.loc[df_train['price'] >= df_train.price.mean(), 'target'] = int(1)"
   ]
  },
  {
   "cell_type": "code",
   "execution_count": 36,
   "metadata": {},
   "outputs": [
    {
     "data": {
      "text/html": [
       "<div>\n",
       "<style scoped>\n",
       "    .dataframe tbody tr th:only-of-type {\n",
       "        vertical-align: middle;\n",
       "    }\n",
       "\n",
       "    .dataframe tbody tr th {\n",
       "        vertical-align: top;\n",
       "    }\n",
       "\n",
       "    .dataframe thead th {\n",
       "        text-align: right;\n",
       "    }\n",
       "</style>\n",
       "<table border=\"1\" class=\"dataframe\">\n",
       "  <thead>\n",
       "    <tr style=\"text-align: right;\">\n",
       "      <th></th>\n",
       "      <th>start_date</th>\n",
       "      <th>lat</th>\n",
       "      <th>lon</th>\n",
       "      <th>l2</th>\n",
       "      <th>l3</th>\n",
       "      <th>bathrooms</th>\n",
       "      <th>price</th>\n",
       "      <th>description</th>\n",
       "      <th>property_type</th>\n",
       "      <th>target</th>\n",
       "    </tr>\n",
       "  </thead>\n",
       "  <tbody>\n",
       "    <tr>\n",
       "      <th>0</th>\n",
       "      <td>2020-12-14</td>\n",
       "      <td>6.203</td>\n",
       "      <td>-75.572</td>\n",
       "      <td>Antioquia</td>\n",
       "      <td>Medellín</td>\n",
       "      <td>4.0</td>\n",
       "      <td>9.000000e+09</td>\n",
       "      <td>&lt;b&gt;hermosa mansion en el poblado. area constru...</td>\n",
       "      <td>1</td>\n",
       "      <td>1.0</td>\n",
       "    </tr>\n",
       "  </tbody>\n",
       "</table>\n",
       "</div>"
      ],
      "text/plain": [
       "   start_date    lat     lon         l2        l3  bathrooms         price  \\\n",
       "0  2020-12-14  6.203 -75.572  Antioquia  Medellín        4.0  9.000000e+09   \n",
       "\n",
       "                                         description  property_type  target  \n",
       "0  <b>hermosa mansion en el poblado. area constru...              1     1.0  "
      ]
     },
     "execution_count": 36,
     "metadata": {},
     "output_type": "execute_result"
    }
   ],
   "source": [
    "df_train.head(1)"
   ]
  },
  {
   "cell_type": "code",
   "execution_count": 37,
   "metadata": {},
   "outputs": [],
   "source": [
    "#2) drop null rows in bathrooms\n",
    "df_train.drop(df_train.loc[df_train.bathrooms.isna()].index, inplace=True)"
   ]
  },
  {
   "cell_type": "code",
   "execution_count": 38,
   "metadata": {},
   "outputs": [
    {
     "name": "stdout",
     "output_type": "stream",
     "text": [
      "0.7800644916540213\n"
     ]
    }
   ],
   "source": [
    "#3) make base model and data + target values\n",
    "clf = DecisionTreeClassifier(max_depth = None, random_state = 42) \n",
    "X = df_train[['lat','lon','bathrooms','property_type']]\n",
    "y = df_train['target']\n",
    "#4) make train and test sets\n",
    "x_train, x_test, y_train, y_test = train_test_split(X, y, test_size=0.30, train_size=0.70, random_state=1982)\n",
    "#5) fit the train sets into the model\n",
    "clf.fit(x_train, y_train)\n",
    "y_test_pred = clf.predict(x_test)\n",
    "#6) let's see the recall score\n",
    "print(recall_score(y_test, y_test_pred))"
   ]
  },
  {
   "cell_type": "code",
   "execution_count": 39,
   "metadata": {},
   "outputs": [],
   "source": [
    "#6) Export the predictions.csv\n",
    "df_test = pd.read_csv('../Datasets_for_model/properties_colombia_test.csv')\n",
    "df_test.bathrooms.fillna(0,inplace=True)\n",
    "X = df_test[['lat','lon','bathrooms','property_type']]\n",
    "df_test['pred'] = clf.predict(X)\n",
    "pred = df_test['pred']"
   ]
  },
  {
   "cell_type": "code",
   "execution_count": 40,
   "metadata": {},
   "outputs": [],
   "source": [
    "if pred.shape[0] == 65850:\n",
    "    pred.to_csv('./IDell49.csv', index=False)"
   ]
  }
 ],
 "metadata": {
  "kernelspec": {
   "display_name": "Python 3.10.6 ('venv': venv)",
   "language": "python",
   "name": "python3"
  },
  "language_info": {
   "codemirror_mode": {
    "name": "ipython",
    "version": 3
   },
   "file_extension": ".py",
   "mimetype": "text/x-python",
   "name": "python",
   "nbconvert_exporter": "python",
   "pygments_lexer": "ipython3",
   "version": "3.10.6"
  },
  "orig_nbformat": 4,
  "vscode": {
   "interpreter": {
    "hash": "dc1819e628f2a7de5c8b31a3314518698835457a39741493b32157ceb3e555b3"
   }
  }
 },
 "nbformat": 4,
 "nbformat_minor": 2
}
