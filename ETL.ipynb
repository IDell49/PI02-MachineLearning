{
 "cells": [
  {
   "cell_type": "code",
   "execution_count": 446,
   "metadata": {},
   "outputs": [],
   "source": [
    "import pandas as pd\n",
    "import datetime as dt\n",
    "import numpy as np\n",
    "import seaborn as sns\n",
    "from sklearn.preprocessing import MinMaxScaler\n",
    "import unidecode\n",
    "import re"
   ]
  },
  {
   "cell_type": "code",
   "execution_count": 447,
   "metadata": {},
   "outputs": [],
   "source": [
    "df_train = pd.read_csv('./Datathon/properties_colombia/properties_colombia_train.csv')\n",
    "df_test = pd.read_csv('./Datathon/properties_colombia/properties_colombia_test.csv')"
   ]
  },
  {
   "cell_type": "code",
   "execution_count": 448,
   "metadata": {},
   "outputs": [
    {
     "name": "stdout",
     "output_type": "stream",
     "text": [
      "<class 'pandas.core.frame.DataFrame'>\n",
      "RangeIndex: 197549 entries, 0 to 197548\n",
      "Data columns (total 27 columns):\n",
      " #   Column           Non-Null Count   Dtype  \n",
      "---  ------           --------------   -----  \n",
      " 0   Unnamed: 0       197549 non-null  int64  \n",
      " 1   id               197549 non-null  object \n",
      " 2   ad_type          197549 non-null  object \n",
      " 3   start_date       197549 non-null  object \n",
      " 4   end_date         197549 non-null  object \n",
      " 5   created_on       197549 non-null  object \n",
      " 6   lat              148051 non-null  float64\n",
      " 7   lon              148051 non-null  float64\n",
      " 8   l1               197549 non-null  object \n",
      " 9   l2               197549 non-null  object \n",
      " 10  l3               186517 non-null  object \n",
      " 11  l4               45367 non-null   object \n",
      " 12  l5               27409 non-null   object \n",
      " 13  l6               6867 non-null    object \n",
      " 14  rooms            27537 non-null   float64\n",
      " 15  bedrooms         40525 non-null   float64\n",
      " 16  bathrooms        156467 non-null  float64\n",
      " 17  surface_total    6974 non-null    float64\n",
      " 18  surface_covered  9802 non-null    float64\n",
      " 19  price            197486 non-null  float64\n",
      " 20  currency         197482 non-null  object \n",
      " 21  price_period     35971 non-null   object \n",
      " 22  title            197548 non-null  object \n",
      " 23  description      197428 non-null  object \n",
      " 24  property_type    197549 non-null  object \n",
      " 25  operation_type   197549 non-null  object \n",
      " 26  geometry         197549 non-null  object \n",
      "dtypes: float64(8), int64(1), object(18)\n",
      "memory usage: 40.7+ MB\n"
     ]
    }
   ],
   "source": [
    "#Let's see what features we have\n",
    "df_train.info()"
   ]
  },
  {
   "cell_type": "code",
   "execution_count": 449,
   "metadata": {},
   "outputs": [],
   "source": [
    "# 'Unnamed: 0': Drop it as it doesn't mean anything \n",
    "df_train.drop('Unnamed: 0', axis=1,inplace=True)"
   ]
  },
  {
   "cell_type": "code",
   "execution_count": 450,
   "metadata": {},
   "outputs": [],
   "source": [
    "# 'id': The Id of a property has no correlation to the property price, we can just delete it\n",
    "df_train.drop('id',axis=1,inplace=True)"
   ]
  },
  {
   "cell_type": "code",
   "execution_count": 451,
   "metadata": {},
   "outputs": [
    {
     "name": "stdout",
     "output_type": "stream",
     "text": [
      "['Propiedad']\n"
     ]
    }
   ],
   "source": [
    "# 'ad_type': As it only has 1 unique value, it doesn't contribute to the target feature in any way so we can get rid of it\n",
    "print(df_train['ad_type'].unique())\n",
    "df_train.drop('ad_type',axis=1,inplace=True)"
   ]
  },
  {
   "cell_type": "code",
   "execution_count": 452,
   "metadata": {},
   "outputs": [],
   "source": [
    "# 'start_date': Leave it, as inflation month by month surely has an effect on the price of a property\n",
    "df_train['start_date'] = pd.to_datetime(df_train['start_date'])"
   ]
  },
  {
   "cell_type": "code",
   "execution_count": 453,
   "metadata": {},
   "outputs": [],
   "source": [
    "# 'end_date': Has no use on it's own, the only kind of analysis we can get out of this column is how much time the ad has been online, but it doesn't really have a correlation with it's price,\n",
    "#only in outlier cases where the ad was put up in the same day it was put down(by a mistake) and that doesn't really happen that often to have to keep it\n",
    "df_train.end_date.value_counts()\n",
    "df_train.drop('end_date',axis=1, inplace=True)"
   ]
  },
  {
   "cell_type": "code",
   "execution_count": 454,
   "metadata": {},
   "outputs": [],
   "source": [
    "# 'created_on\": Knowing the day where the ad was created is not really useful to knowing it's price, it's last update gives us a more real value of the property in the present\n",
    "df_train[df_train['start_date'] == df_train['created_on']].shape\n",
    "df_train.drop('created_on',axis=1,inplace=True)"
   ]
  },
  {
   "cell_type": "markdown",
   "metadata": {},
   "source": [
    "    Latitude and Longitude ------------------------------------------------------------------------------------------"
   ]
  },
  {
   "cell_type": "code",
   "execution_count": 455,
   "metadata": {},
   "outputs": [
    {
     "data": {
      "image/png": "[encoded data removed]",
      "text/plain": [
       "<Figure size 640x480 with 1 Axes>"
      ]
     },
     "metadata": {},
     "output_type": "display_data"
    }
   ],
   "source": [
    "sns.scatterplot(x= df_train.lon, y= df_train.lat)\n",
    "# We can see in the scatterplot that there are 2 outliers in our data, so let's research them\n",
    "# here you can see the bottom outlier: df_train[df_train.lat == df_train.lat.min()]\n",
    "# here you can see the top outlier: df_train[df_train.lat == df_train.lat.max()]\n",
    "# If we insert this coordinates into a tool to find the location on the world map, we get a location in Chile and USA, \n",
    "#so it's useless in our research and we can drop it\n",
    "df_train.drop(df_train.loc[df_train['lat'] == df_train.lat.min()].index,inplace=True)\n",
    "df_train.drop(df_train.loc[df_train['lat'] == df_train.lat.max()].index,inplace=True)"
   ]
  },
  {
   "cell_type": "code",
   "execution_count": 456,
   "metadata": {},
   "outputs": [
    {
     "name": "stdout",
     "output_type": "stream",
     "text": [
      "Null values: 49498\n",
      "Null values: 0\n"
     ]
    }
   ],
   "source": [
    "# 'lat': In latitude we can use 'L2'(state) as a reference to fill up the null values \n",
    "print('Null values:',df_train.lat.isna().sum())\n",
    "dict_lat = {\n",
    "    'Antioquia': 7.154030,\n",
    "    'Atlántico': 10.987760,\n",
    "    'Cundinamarca': 4.781800,\n",
    "    'Meta': 3.2720,\n",
    "    'Valle del Cauca': 3.858560,\n",
    "    'Caldas': 6.090000,\n",
    "    'Risaralda': 4.606880,\n",
    "    'Magdalena': 10.249170,\n",
    "    'Santander': -0.622170,\n",
    "    'Cauca': 8.252500,\n",
    "    'Huila': 3.376450,\n",
    "    'Bolívar': 1.833650,\n",
    "    'Tolima': 4.034880,\n",
    "    'Norte de Santander': 8.084580,\n",
    "    'Quindío': 4.396070,\n",
    "    'Caquetá': 1.113340,\n",
    "    'Sucre': 8.811250,\n",
    "    'Guainía': 2.719020,\n",
    "    'La Guajira': 11.427780,\n",
    "    'Boyacá': 5.453740,\n",
    "    'Cesar': 10.769930, \n",
    "    'Amazonas': -2.056290,\n",
    "    'San Andrés Providencia y Santa Catalina': 12.542720,\n",
    "    'Casanare': 5.296580,\n",
    "    'Vichada': 4.712170,\n",
    "    'Córdoba': 9.586680,\n",
    "    'Chocó': 6.320330\n",
    "}\n",
    "\n",
    "df_train['lat'] = df_train.lat.fillna(df_train.l2.map(dict_lat))\n",
    "print('Null values:',df_train.lat.isna().sum())"
   ]
  },
  {
   "cell_type": "code",
   "execution_count": 457,
   "metadata": {},
   "outputs": [
    {
     "name": "stdout",
     "output_type": "stream",
     "text": [
      "Null values: 49498\n",
      "Null values: 0\n"
     ]
    }
   ],
   "source": [
    "# 'lon': In longitude we can use 'L2'(state) as a reference to fill up the null values \n",
    "print('Null values:',df_train.lon.isna().sum())\n",
    "dict_lon = {\n",
    "    'Antioquia': -75.503349,\n",
    "    'Atlántico': -74.954620,\n",
    "    'Cundinamarca': -73.970757,\n",
    "    'Meta': -73.0877,\n",
    "    'Valle del Cauca': -76.519810,\n",
    "    'Caldas': -75.636627,\n",
    "    'Risaralda': -74.071840,\n",
    "    'Magdalena': -74.261080,\n",
    "    'Santander': -72.382812,\n",
    "    'Cauca': -74.722893,\n",
    "    'Huila': -74.802391,\n",
    "    'Bolívar': -76.967293,\n",
    "    'Tolima': -75.255890,\n",
    "    'Norte de Santander': -72.842781,\n",
    "    'Quindío': -75.640083,\n",
    "    'Caquetá': -73.813004,\n",
    "    'Sucre': -74.721390,\n",
    "    'Guainía': -67.566940, \n",
    "    'La Guajira': -72.388634,\n",
    "    'Boyacá': -73.362480,\n",
    "    'Cesar': -73.004791, \n",
    "    'Amazonas': -71.892921,\n",
    "    'San Andrés Providencia y Santa Catalina': -81.717900,\n",
    "    'Casanare': -71.456268,\n",
    "    'Vichada': -69.414350,\n",
    "    'Córdoba': -74.826302,\n",
    "    'Chocó': -76.944901\n",
    "}\n",
    "\n",
    "df_train['lon'] = df_train.lon.fillna(df_train.l2.map(dict_lon))\n",
    "print('Null values:',df_train.lon.isna().sum())"
   ]
  },
  {
   "cell_type": "code",
   "execution_count": 458,
   "metadata": {},
   "outputs": [
    {
     "data": {
      "text/plain": [
       "<AxesSubplot: xlabel='lon', ylabel='lat'>"
      ]
     },
     "execution_count": 458,
     "metadata": {},
     "output_type": "execute_result"
    },
    {
     "data": {
      "image/png": "[encoded data removed]",
      "text/plain": [
       "<Figure size 640x480 with 1 Axes>"
      ]
     },
     "metadata": {},
     "output_type": "display_data"
    }
   ],
   "source": [
    "# Now the scatterplot is in a much closer range and not outliers are seen\n",
    "sns.scatterplot(x= df_train.lon, y= df_train.lat)"
   ]
  },
  {
   "cell_type": "markdown",
   "metadata": {},
   "source": [
    "    ------------------------------------------------------------------------------------------------------------------"
   ]
  },
  {
   "cell_type": "code",
   "execution_count": 459,
   "metadata": {},
   "outputs": [
    {
     "name": "stdout",
     "output_type": "stream",
     "text": [
      "['Colombia']\n"
     ]
    }
   ],
   "source": [
    "# 'l1': Having information on what country we're situated in is useless as this dataset is situated in Colombia already\n",
    "print(df_train.l1.unique())\n",
    "df_train.drop('l1',axis=1,inplace=True)"
   ]
  },
  {
   "cell_type": "code",
   "execution_count": 460,
   "metadata": {},
   "outputs": [
    {
     "data": {
      "text/plain": [
       "True"
      ]
     },
     "execution_count": 460,
     "metadata": {},
     "output_type": "execute_result"
    }
   ],
   "source": [
    "# 'l2': Here I check that it has all the states in Colombia.\n",
    "Departamentos_colombianos = ['Amazonas','Antioquia','Arauca','Atlántico','Bolívar','Boyacá','Caldas','Caquetá',\n",
    "'Casanare','Cauca','Cesar','Chocó','Córdoba','Cundinamarca','Guainía','Guaviare','Huila','La Guajira','Magdalena',\n",
    "'Meta','Nariño','Norte de Santander','Putumayo','Quindí','Risarald','San Andrés y Providencia','Santander','Sucre','Tolima',\n",
    "'Valle del Cauca','Vaupé','Vichada']\n",
    "\n",
    "result = any(e in list(df_train.l2.unique()) for e in Departamentos_colombianos )\n",
    "\n",
    "result "
   ]
  },
  {
   "cell_type": "code",
   "execution_count": 461,
   "metadata": {},
   "outputs": [
    {
     "name": "stdout",
     "output_type": "stream",
     "text": [
      "Nulls: 11032\n"
     ]
    },
    {
     "data": {
      "text/plain": [
       "array(['Medellín', 'Bogotá D.C', 'Bucaramanga', 'Manizales',\n",
       "       'Barranquilla', 'Cali', nan, 'Montería', 'Palmira', 'Popayán',\n",
       "       'Simijaca', 'Piedecuesta', 'Villavicencio', 'Soacha', 'Cúcuta',\n",
       "       'Cartago', 'Jamundí', 'Pereira', 'Puerto López', 'Zipaquirá',\n",
       "       'Cogua', 'Rionegro', 'Vijes', 'Cartagena', 'Santa Marta', 'Ibagué',\n",
       "       'Floridablanca', 'Bello', 'Armenia', 'Silvania', 'Tocancipá',\n",
       "       'Chía', 'Barbosa', 'Palestina', 'La Ceja', 'Sabaneta', 'Envigado',\n",
       "       'Dagua', 'Neiva', 'Cota', 'Guarne', 'San Francisco', 'Tocaima',\n",
       "       'Cajicá', 'Tuluá', 'Barrancabermeja', 'Marinilla', 'Girardot',\n",
       "       'Tunja', 'Funza', 'La Cumbre', 'Durania', 'Itagui', 'Soledad',\n",
       "       'Melgar', 'Saldaña', 'La Estrella', 'Fusagasugá', 'Nemocón',\n",
       "       'Malambo', 'Tabio', 'Paipa', 'Mosquera', 'Caldas', 'Arbeláez',\n",
       "       'La Calera', 'Girón', 'Flandes', 'Guatapé', 'Sesquilé',\n",
       "       'Sabanalarga', 'Turbo', 'Subachoque', 'Yopal', 'Carmen de Apicalá',\n",
       "       'Sibaté', 'Copacabana', 'Anapoima', 'Sasaima', 'Viterbo', 'Guamal',\n",
       "       'San Jerónimo', 'Facatativá', 'Rivera', 'Galapa', 'Nocaima',\n",
       "       'Candelaria', 'Riofrío', 'Madrid', 'Viotá', 'La Mesa',\n",
       "       'Juan de Acosta', 'Florencia', 'Anolaima', 'Colombia', 'Yumbo',\n",
       "       'Inírida', 'Restrepo', 'Chaparral', 'Venecia', 'Santa Catalina',\n",
       "       'Espinal', 'Los Santos', 'La Tebaida', 'Pradera', 'Andalucía',\n",
       "       'Puerto Colombia', 'La Florida', 'Tenjo', 'San Onofre', 'Duitama',\n",
       "       'San Gil', 'Sopetrán', 'Tubará', 'Sopó', 'Ricaurte',\n",
       "       'Santiago de Tolú', 'Carmen de Carupa', 'Turbaco',\n",
       "       'Villa del Rosario', 'El Peñón', 'El Cerrito', 'Gachancipá',\n",
       "       'Guaduas', 'Garzón', 'Marsella', 'Girardota', 'Apulo',\n",
       "       'Valledupar', 'Sogamoso', 'Puerto Wilches', 'Fresno', 'Nilo',\n",
       "       'Guasca', 'Baranoa', 'Filandia', 'Los Patios', 'Jardín',\n",
       "       'Montenegro', 'Bojacá', 'El Rosal', 'Salento', 'Moniquirá',\n",
       "       'Neira', 'Sahagún', 'El Colegio', 'Tibacuy', 'Alvarado', 'Piedras',\n",
       "       'Chinácota', 'Villeta', 'Providencia', 'Ipiales', 'Pitalito',\n",
       "       'Socorro', 'Paz de Ariporo', 'Calima', 'Villamaría', 'Sutatausa',\n",
       "       'Arjona', 'Gómez Plata', 'Santa Rosa', 'Granada', 'Honda',\n",
       "       'Dibulla', 'Líbano', 'Palmar de Varela', 'La Virginia', 'Medina',\n",
       "       'San Rafael', 'Zarzal', 'Yotoco', 'Manzanares',\n",
       "       'Santa Rosa de Cabal', 'Pacho', 'Leticia', 'Tauramena', 'Quimbaya',\n",
       "       'La Vega', 'Santafé de Antioquia', 'Abejorral', 'Puerto Salgar',\n",
       "       'Albania', 'Macheta', 'Fredonia', 'Acacías', 'Guamo',\n",
       "       'San Antonio del Tequendama', 'Guacarí', 'Suesca', 'Coveñas',\n",
       "       'Retiro', 'San Andrés', 'Salamina', 'Chocontá',\n",
       "       'El Carmen de Viboral', 'Lebríja', 'Zipacón', 'Planeta Rica',\n",
       "       'Guatavita', 'Coello', 'Villa de Leyva', 'San Juan de Arama',\n",
       "       'Hispania', 'Tena', 'Pandi', 'Puerto Parra', 'Chipaque',\n",
       "       'San Martín', 'Supatá', 'Agua de Dios', 'Jenesano', 'Venadillo',\n",
       "       'Guadalajara de Buga', 'Chigorodó', 'San Bernardo',\n",
       "       'Puerto Lleras', 'Puerto Triunfo', 'Mariquita', 'Villanueva',\n",
       "       'Aipe', 'Puerto Boyacá', 'Chiquinquirá', 'Purificación',\n",
       "       'Barichara', 'Bochalema', 'Santa Sofía', 'Balboa', 'Cachipay',\n",
       "       'Aguazul', 'Maní', 'Palermo', 'Santa Rita', 'Acandí', 'Caparrapí',\n",
       "       'Pinchote', 'Clemencia', 'San Luis', 'Vianí', 'Sincelejo',\n",
       "       'Icononzo', 'Albán', 'Tausa', 'Casabianca', 'Turbaná', 'Orocué',\n",
       "       'San Juan de Rioseco', 'Anserma', 'Santagueda', 'Pore', 'Calarca',\n",
       "       'Florida', 'Trujillo', 'Circasia', 'Puerto Carreño', 'Cimitarra',\n",
       "       'Sutamarchán', 'Dos Quebradas', 'Sabanagrande', 'Victoria',\n",
       "       'Villapinzón', 'Tibaná', 'La Plata', 'San Cayetano', 'Curití',\n",
       "       'Tibasosa', 'Zapatoca', 'Cucunubá', 'San Marcos', 'Lérida',\n",
       "       'Prado', 'San Pedro de Uraba', 'Chinauta', 'Génova', 'Cabrera',\n",
       "       'San Carlos de Guaroa', 'Guayabal de Siquima', 'Riohacha',\n",
       "       'Caicedonia', 'Arauca', 'Pasto', 'San Alberto', 'Guateque',\n",
       "       'Buesaco', 'Choachí', 'Buenaventura', 'Arcabuco', 'Puerto Gaitán',\n",
       "       'Suárez', 'Vergara', 'Yacopí', 'La Dorada', 'Cunday',\n",
       "       'Quebradanegra'], dtype=object)"
      ]
     },
     "execution_count": 461,
     "metadata": {},
     "output_type": "execute_result"
    }
   ],
   "source": [
    "# 'l3': Here there really isn't a way to check if all these cities are Colombian as we're going into way less defined territory\n",
    "#so what I do is just look at all the unique values by eye as it's not big enough yet, to see if there is a wrongly inputted outlier\n",
    "print('Nulls:',df_train[df_train.l3.isna()].shape[0])\n",
    "df_train.l3.unique()\n"
   ]
  },
  {
   "cell_type": "code",
   "execution_count": 462,
   "metadata": {},
   "outputs": [
    {
     "name": "stdout",
     "output_type": "stream",
     "text": [
      "Unique values: 58\n"
     ]
    }
   ],
   "source": [
    "# 'l4': The amount of neighbourhoods is not enough to fill up even 50% of our data, drop it as getting that kinf of information from geolocation is difficult\n",
    "print('Unique values:', df_train.l4.nunique())\n",
    "df_train.drop('l4', axis=1, inplace=True)"
   ]
  },
  {
   "cell_type": "code",
   "execution_count": 463,
   "metadata": {},
   "outputs": [
    {
     "name": "stdout",
     "output_type": "stream",
     "text": [
      "Nulls: 170138\n",
      "Unique values: 20\n"
     ]
    }
   ],
   "source": [
    "# 'l5': same as 'l4'\n",
    "print('Nulls:',df_train[df_train.l5.isna()].shape[0])\n",
    "print('Unique values:', df_train.l5.nunique())\n",
    "df_train.drop('l5', axis=1, inplace=True)"
   ]
  },
  {
   "cell_type": "code",
   "execution_count": 464,
   "metadata": {},
   "outputs": [
    {
     "name": "stdout",
     "output_type": "stream",
     "text": [
      "Nulls: 190680\n",
      "Unique values: 146\n"
     ]
    }
   ],
   "source": [
    "# 'l6': same as 'l4'\n",
    "print('Nulls:',df_train[df_train.l6.isna()].shape[0])\n",
    "print('Unique values:', df_train.l6.nunique())\n",
    "df_train.drop('l6', axis=1, inplace=True)"
   ]
  },
  {
   "cell_type": "markdown",
   "metadata": {},
   "source": [
    "    Property Rooms ---------------------------------------------------------------------------------------------------\n",
    "\n",
    "Here the problem is that we have way too many nulls, and the real value is sometimes in the description, we can use RegularExpresion(regex) to get that kind of information out, but it's not really consistent"
   ]
  },
  {
   "cell_type": "code",
   "execution_count": 465,
   "metadata": {},
   "outputs": [
    {
     "name": "stdout",
     "output_type": "stream",
     "text": [
      "Nulls: 170012\n"
     ]
    }
   ],
   "source": [
    "# 'rooms': there are way too many nulls to make this column useful, it's a shame because the amount of rooms in a property is really important\n",
    "print('Nulls:',df_train[df_train.rooms.isna()].shape[0])\n",
    "# I won't drop it right here, let's see if I can scavenge some data from 'description' \n",
    "#df_train.drop('rooms', axis=1, inplace=True)"
   ]
  },
  {
   "cell_type": "code",
   "execution_count": 466,
   "metadata": {},
   "outputs": [
    {
     "name": "stdout",
     "output_type": "stream",
     "text": [
      "Nulls: 157022\n"
     ]
    }
   ],
   "source": [
    "# 'bedrooms': same as 'rooms'\n",
    "print('Nulls:',df_train[df_train.bedrooms.isna()].shape[0])\n",
    "# I won't drop it right here, let's see if I can scavenge some data from 'description' \n",
    "#df_train.drop('bedrooms', axis=1, inplace=True)"
   ]
  },
  {
   "cell_type": "code",
   "execution_count": 467,
   "metadata": {},
   "outputs": [
    {
     "name": "stdout",
     "output_type": "stream",
     "text": [
      "Nulls: 41082\n"
     ]
    },
    {
     "data": {
      "text/plain": [
       "0.20796063721544747"
      ]
     },
     "execution_count": 467,
     "metadata": {},
     "output_type": "execute_result"
    }
   ],
   "source": [
    "# 'bathrooms': we have 20% of nulls, just on the edge of the minimum amount of nulls needed to drop the column, we'll see in 'description' if we can salvage something\n",
    "print('Nulls:',df_train[df_train.bathrooms.isna()].shape[0])\n",
    "a = df_train[df_train.bathrooms.isna()].shape[0] / df_train.bathrooms.shape[0]\n",
    "a"
   ]
  },
  {
   "cell_type": "markdown",
   "metadata": {},
   "source": [
    "    ------------------------------------------------------------------------------------------------------------------"
   ]
  },
  {
   "cell_type": "code",
   "execution_count": 468,
   "metadata": {},
   "outputs": [
    {
     "name": "stdout",
     "output_type": "stream",
     "text": [
      "Nulls: 190573\n"
     ]
    }
   ],
   "source": [
    "# 'surface_total': wayy too many nulls, let's see if there's something in 'description'\n",
    "print('Nulls:',df_train[df_train.surface_total.isna()].shape[0])\n",
    "#df_train.drop('surface_total',axis=1,inplace=True)"
   ]
  },
  {
   "cell_type": "code",
   "execution_count": 469,
   "metadata": {},
   "outputs": [
    {
     "name": "stdout",
     "output_type": "stream",
     "text": [
      "Nulls: 187745\n"
     ]
    }
   ],
   "source": [
    "# 'surface_covered': same as surface_total\n",
    "print('Nulls:',df_train[df_train.surface_covered.isna()].shape[0])\n",
    "#df_train.drop('surface_covered',axis=1,inplace=True)"
   ]
  },
  {
   "cell_type": "markdown",
   "metadata": {},
   "source": [
    "    Price,Currency -------------------------------------------------------------------------------------------------------------------------"
   ]
  },
  {
   "cell_type": "code",
   "execution_count": 470,
   "metadata": {},
   "outputs": [
    {
     "name": "stdout",
     "output_type": "stream",
     "text": [
      "Nulls: 63\n"
     ]
    },
    {
     "data": {
      "text/plain": [
       "<AxesSubplot: >"
      ]
     },
     "execution_count": 470,
     "metadata": {},
     "output_type": "execute_result"
    },
    {
     "data": {
      "image/png": "[encoded data removed]",
      "text/plain": [
       "<Figure size 640x480 with 1 Axes>"
      ]
     },
     "metadata": {},
     "output_type": "display_data"
    }
   ],
   "source": [
    "# 'price': Because the objective of the model is to classify properties into cheap and expensive, we can use price to create that target feature \n",
    "print('Nulls:',df_train[df_train.price.isna()].shape[0]) #Here we can drop these null rows as they are not really that many\n",
    "df_train = df_train[df_train['price'].notnull()]\n",
    "\n",
    "sns.boxplot(df_train.price)"
   ]
  },
  {
   "cell_type": "code",
   "execution_count": 471,
   "metadata": {},
   "outputs": [
    {
     "name": "stdout",
     "output_type": "stream",
     "text": [
      "Nulls: 4\n",
      "COP    197472\n",
      "USD         8\n",
      "Name: currency, dtype: int64\n"
     ]
    }
   ],
   "source": [
    "# 'currency': Here we have only 8 rows with usd as currency, we can easily drop it as knowing the COP value in that year is too much work for so little value, then we can drop the nulls \n",
    "#as they are not even .5% of our total database\n",
    "print('Nulls:',df_train[df_train.currency.isna()].shape[0])\n",
    "#USD\n",
    "print(df_train.currency.value_counts())\n",
    "df_train.drop(df_train.loc[df_train['currency'] == 'USD'].index,inplace=True)\n",
    "#NULL\n",
    "df_train = df_train[df_train['currency'].notnull()]\n",
    "#Now we can just drop it as every value is exactly the same\n",
    "df_train.drop('currency',axis=1,inplace=True)"
   ]
  },
  {
   "cell_type": "code",
   "execution_count": 472,
   "metadata": {},
   "outputs": [
    {
     "name": "stdout",
     "output_type": "stream",
     "text": [
      "Nulls: 161507\n"
     ]
    }
   ],
   "source": [
    "# 'price_period' has way too many nulls and no way to recover them\n",
    "print('Nulls:',df_train[df_train.price_period.isnull()].shape[0])\n",
    "df_train.drop('price_period',axis=1,inplace=True)"
   ]
  },
  {
   "cell_type": "markdown",
   "metadata": {},
   "source": [
    "    -------------------------------------------------------------------------------------------------------------------------------------------"
   ]
  },
  {
   "cell_type": "code",
   "execution_count": 473,
   "metadata": {},
   "outputs": [],
   "source": [
    "# 'title': We shouldn't care about the title as it's a summary of description \n",
    "df_train.drop('title',axis=1,inplace=True)"
   ]
  },
  {
   "cell_type": "code",
   "execution_count": 474,
   "metadata": {},
   "outputs": [],
   "source": [
    "# 'description': Description has a ton of information on every property, but it's not consistent enough so that we can pull out concrete information from it without being super specific.\n",
    "#we'll see later what we can get out of it\n",
    "#df_train.drop('description',axis=1,inplace=True)"
   ]
  },
  {
   "cell_type": "markdown",
   "metadata": {},
   "source": [
    "    Regex -------------------------------------------------------"
   ]
  },
  {
   "cell_type": "code",
   "execution_count": 475,
   "metadata": {},
   "outputs": [],
   "source": [
    "# Make description a str to maintain data homogenity, make everything lower-case to make it easier to search for and lastly unidecode to \n",
    "df_train.description = df_train.description.apply(str)\n",
    "df_train.description = df_train.description.str.lower()\n",
    "df_train.description = df_train.description.apply(unidecode.unidecode)"
   ]
  },
  {
   "cell_type": "code",
   "execution_count": 476,
   "metadata": {},
   "outputs": [
    {
     "name": "stdout",
     "output_type": "stream",
     "text": [
      "Amount of in description: 1115\n",
      "Amount of nulls to fill: 169980\n",
      "0.66 % of filling \n"
     ]
    }
   ],
   "source": [
    "# 'rooms', here we're trying to find out if filling 'rooms' with the information gathered from 'description' is worth it\n",
    "pattern = '(ambientes)'\n",
    "rooms = df_train.rooms.copy()\n",
    "rooms['value'] = df_train.loc[df_train.rooms.isnull()].description.str.extract(pattern)\n",
    "print('Amount of in description:',rooms.value.value_counts()[0])\n",
    "print('Amount of nulls to fill:', rooms.value[rooms.value.isnull()].shape[0])\n",
    "print((rooms.value.value_counts()[0] / rooms.value[rooms.value.isnull()].shape[0]*100).round(2), '%', 'of filling ')"
   ]
  },
  {
   "cell_type": "code",
   "execution_count": 477,
   "metadata": {},
   "outputs": [
    {
     "name": "stdout",
     "output_type": "stream",
     "text": [
      "Amount of in description: 61595\n",
      "Amount of nulls to fill: 157004\n",
      "39.23 % of filling \n"
     ]
    }
   ],
   "source": [
    "# 'bedrooms', here we're trying to find out if filling 'bedrooms' with the information gathered from 'description' is worth it\n",
    "pattern = '(habitacion)'\n",
    "bedrooms = df_train.bedrooms.copy()\n",
    "bedrooms['value'] = df_train.loc[df_train.bedrooms.isnull()].description.str.extract(pattern)\n",
    "print('Amount of in description:',bedrooms.value.value_counts()[0])\n",
    "print('Amount of nulls to fill:', bedrooms.value[bedrooms.value.isnull()].shape[0])\n",
    "print((bedrooms.value.value_counts()[0] / bedrooms.value[bedrooms.value.isnull()].shape[0]*100).round(2), '%', 'of filling ')"
   ]
  },
  {
   "cell_type": "code",
   "execution_count": 478,
   "metadata": {},
   "outputs": [
    {
     "name": "stdout",
     "output_type": "stream",
     "text": [
      "Amount of in description: 18566\n",
      "Amount of nulls to fill: 41058\n",
      "45.22 % of filling \n"
     ]
    }
   ],
   "source": [
    "# 'bathrooms', here we're trying to find out if filling 'bathrooms' with the information gathered from 'description' is worth it\n",
    "pattern = '( bano)'\n",
    "bathrooms = df_train.bathrooms.copy()\n",
    "bathrooms['value'] = df_train.loc[df_train.bathrooms.isnull()].description.str.extract(pattern)\n",
    "print('Amount of in description:',bathrooms.value.value_counts()[0])\n",
    "print('Amount of nulls to fill:', bathrooms.value[bathrooms.value.isnull()].shape[0])\n",
    "print((bathrooms.value.value_counts()[0] / bathrooms.value[bathrooms.value.isnull()].shape[0]*100).round(2), '%', 'of filling ')"
   ]
  },
  {
   "cell_type": "code",
   "execution_count": 479,
   "metadata": {},
   "outputs": [
    {
     "name": "stdout",
     "output_type": "stream",
     "text": [
      "Amount of in description: 53240\n",
      "Amount of nulls to fill: 190530\n",
      "27.94 % of filling \n"
     ]
    }
   ],
   "source": [
    "# 'surface_total'/'surface_covered' I coupled them as their null distribution seems almost the same , here we're trying to find out if filling 'rooms' \n",
    "# with the information gathered from 'description' is worth it\n",
    "pattern = '(area)'\n",
    "surface_total = df_train.surface_total.copy()\n",
    "surface_total['value'] = df_train.loc[df_train.surface_total.isnull()].description.str.extract(pattern)\n",
    "print('Amount of in description:',surface_total.value.value_counts()[0])\n",
    "print('Amount of nulls to fill:', surface_total.value[surface_total.value.isnull()].shape[0])\n",
    "print((surface_total.value.value_counts()[0] / surface_total.value[surface_total.value.isnull()].shape[0]*100).round(2), '%', 'of filling ')"
   ]
  },
  {
   "cell_type": "code",
   "execution_count": 480,
   "metadata": {},
   "outputs": [],
   "source": [
    "df_train.drop('rooms',axis=1,inplace=True)\n",
    "df_train.drop('bedrooms',axis=1,inplace=True)\n",
    "#df_train.drop('bathrooms',axis=1,inplace=True) I don't drop bathrooms as it's the only column with enough data to work\n",
    "df_train.drop('surface_total',axis=1,inplace=True)\n",
    "df_train.drop('surface_covered',axis=1,inplace=True)"
   ]
  },
  {
   "cell_type": "code",
   "execution_count": 481,
   "metadata": {},
   "outputs": [],
   "source": [
    "# Here we create a dictionary to map these string values into int(although still strings) so everything is in the same format\n",
    "numb_dict= {' uno ': ' 1 ', \n",
    "            ' dos ':' 2 ', \n",
    "            ' tres ':' 3 ', \n",
    "            ' cuatro ':' 4 ', \n",
    "            ' cinco ':' 5 ', \n",
    "            ' seis ':' 6 ',\n",
    "            ' siete ':' 7 ', \n",
    "            ' ocho ':' 8 ',\n",
    "            ' nueve ':' 9 '}\n",
    "\n",
    "for i ,j in enumerate (numb_dict):\n",
    "    df_train.description = df_train.description.replace(regex = (list(numb_dict.keys())[i]), value = numb_dict.get(j))"
   ]
  },
  {
   "cell_type": "code",
   "execution_count": 482,
   "metadata": {},
   "outputs": [],
   "source": [
    "# now we just fill the nulls in 'bathrooms' and we're done\n",
    "pattern = \"(\\d+) bano\"\n",
    "df_train['bathroomfilling']  = df_train.description.str.extract(pattern)\n",
    "df_train.bathrooms.fillna(df_train.bathroomfilling, inplace=True)\n",
    "df_train.drop('bathroomfilling',axis=1,inplace=True)"
   ]
  },
  {
   "cell_type": "markdown",
   "metadata": {},
   "source": [
    "    -----------------------------------------------------------------------------------------------"
   ]
  },
  {
   "cell_type": "code",
   "execution_count": 483,
   "metadata": {},
   "outputs": [
    {
     "name": "stdout",
     "output_type": "stream",
     "text": [
      "Nulls: 0\n"
     ]
    }
   ],
   "source": [
    "# 'property_type': no nulls, and it's vital information, we can make them into int variables to use them in the model later\n",
    "print('Nulls:',df_train[df_train.property_type.isnull()].shape[0])\n",
    "df_train.property_type.unique() \n",
    "prop_dict= {'Casa':'1', \n",
    "            'Apartamento':'2', \n",
    "            'Otro':'3', \n",
    "            'Oficina':'4', \n",
    "            'Finca':'5', \n",
    "            'Lote':'6',\n",
    "            'Local comercial':'7', \n",
    "            'Parqueadero':'8'}\n",
    "\n",
    "df_train.replace({'property_type':prop_dict},inplace=True)"
   ]
  },
  {
   "cell_type": "code",
   "execution_count": 484,
   "metadata": {},
   "outputs": [
    {
     "name": "stdout",
     "output_type": "stream",
     "text": [
      "Nulls: 0\n"
     ]
    }
   ],
   "source": [
    "# 'operation_type': here we have no nulls, but every value is the same, so this column is useless\n",
    "print('Nulls:',df_train[df_train.operation_type.isnull()].shape[0])\n",
    "df_train.operation_type.unique()\n",
    "df_train.drop('operation_type',axis=1,inplace=True)\n"
   ]
  },
  {
   "cell_type": "code",
   "execution_count": 485,
   "metadata": {},
   "outputs": [],
   "source": [
    "# 'geometry': here this column is the exact same as 'lat'+'lon', so there really is not reason to keep it for the predictions\n",
    "df_train.drop('geometry',axis=1,inplace=True)"
   ]
  },
  {
   "cell_type": "code",
   "execution_count": 486,
   "metadata": {},
   "outputs": [],
   "source": [
    "# Now we save the csv into a folder that we can access later in Model.ipynb\n",
    "df_train.to_csv('./Datasets_for_model/properties_colombia_train.csv',index=False)"
   ]
  },
  {
   "cell_type": "markdown",
   "metadata": {},
   "source": [
    "    df_test --------------------------------------------------------------------------------------"
   ]
  },
  {
   "cell_type": "code",
   "execution_count": 487,
   "metadata": {},
   "outputs": [],
   "source": [
    "df_test.drop('Unnamed: 0', axis=1,inplace=True)\n",
    "df_test.drop('id',axis=1,inplace=True)\n",
    "df_test.drop('ad_type',axis=1,inplace=True)\n",
    "df_test['start_date'] = pd.to_datetime(df_test['start_date'])\n",
    "df_test.drop('end_date',axis=1, inplace=True)\n",
    "df_test.drop('created_on',axis=1,inplace=True)\n",
    "df_test.drop('l1',axis=1,inplace=True)\n",
    "df_test.drop('l4',axis=1,inplace=True)\n",
    "df_test.drop('l5',axis=1,inplace=True)\n",
    "df_test.drop('l6',axis=1,inplace=True)\n",
    "df_test.drop('rooms', axis=1, inplace=True)\n",
    "df_test.drop('bedrooms', axis=1, inplace=True)\n",
    "df_test.drop('surface_total',axis=1,inplace=True)\n",
    "df_test.drop('surface_covered',axis=1,inplace=True)\n",
    "df_test.drop('currency',axis=1,inplace=True)\n",
    "df_test.drop('title',axis=1,inplace=True)\n",
    "df_test.drop('operation_type',axis=1,inplace=True)\n",
    "df_test.drop('geometry',axis=1,inplace=True)\n",
    "#\n",
    "df_test.description = df_test.description.apply(str)\n",
    "df_test.description = df_test.description.str.lower()\n",
    "df_test.description = df_test.description.apply(unidecode.unidecode)\n",
    "#\n",
    "numb_dict= {' uno ': ' 1 ', \n",
    "            ' dos ':' 2 ', \n",
    "            ' tres ':' 3 ', \n",
    "            ' cuatro ':' 4 ', \n",
    "            ' cinco ':' 5 ', \n",
    "            ' seis ':' 6 ',\n",
    "            ' siete ':' 7 ', \n",
    "            ' ocho ':' 8 ',\n",
    "            ' nueve ':' 9 '}\n",
    "\n",
    "for i ,j in enumerate (numb_dict):\n",
    "    df_test.description = df_test.description.replace(regex = (list(numb_dict.keys())[i]), value = numb_dict.get(j))\n",
    "#\n",
    "pattern = \"(\\d+) bano\"\n",
    "df_test['bathroomfilling']  = df_test.description.str.extract(pattern)\n",
    "df_test.bathrooms.fillna((df_test.bathroomfilling), inplace=True)\n",
    "#\n",
    "\n",
    "prop_dict= {'Casa':'1', \n",
    "            'Apartamento':'2', \n",
    "            'Otro':'3', \n",
    "            'Oficina':'4', \n",
    "            'Finca':'5', \n",
    "            'Lote':'6',\n",
    "            'Local comercial':'7', \n",
    "            'Parqueadero':'8'}\n",
    "\n",
    "df_test.replace({'property_type':prop_dict},inplace=True)\n",
    "\n",
    "dict_lat = {\n",
    "    'Antioquia': 7.154030,\n",
    "    'Atlántico': 10.987760,\n",
    "    'Cundinamarca': 4.781800,\n",
    "    'Meta': 3.2720,\n",
    "    'Valle del Cauca': 3.858560,\n",
    "    'Caldas': 6.090000,\n",
    "    'Risaralda': 4.606880,\n",
    "    'Magdalena': 10.249170,\n",
    "    'Santander': -0.622170,\n",
    "    'Cauca': 8.252500,\n",
    "    'Huila': 3.376450,\n",
    "    'Bolívar': 1.833650,\n",
    "    'Tolima': 4.034880,\n",
    "    'Norte de Santander': 8.084580,\n",
    "    'Quindío': 4.396070,\n",
    "    'Caquetá': 1.113340,\n",
    "    'Sucre': 8.811250,\n",
    "    'Guainía': 2.719020,\n",
    "    'La Guajira': 11.427780,\n",
    "    'Boyacá': 5.453740,\n",
    "    'Cesar': 10.769930, \n",
    "    'Amazonas': -2.056290,\n",
    "    'San Andrés Providencia y Santa Catalina': 12.542720,\n",
    "    'Casanare': 5.296580,\n",
    "    'Vichada': 4.712170,\n",
    "    'Córdoba': 9.586680,\n",
    "    'Chocó': 6.320330\n",
    "}\n",
    "\n",
    "df_test['lat'] = df_test.lat.fillna(df_test.l2.map(dict_lat))\n",
    "\n",
    "dict_lon = {\n",
    "    'Antioquia': -75.503349,\n",
    "    'Atlántico': -74.954620,\n",
    "    'Cundinamarca': -73.970757,\n",
    "    'Meta': -73.0877,\n",
    "    'Valle del Cauca': -76.519810,\n",
    "    'Caldas': -75.636627,\n",
    "    'Risaralda': -74.071840,\n",
    "    'Magdalena': -74.261080,\n",
    "    'Santander': -72.382812,\n",
    "    'Cauca': -74.722893,\n",
    "    'Huila': -74.802391,\n",
    "    'Bolívar': -76.967293,\n",
    "    'Tolima': -75.255890,\n",
    "    'Norte de Santander': -72.842781,\n",
    "    'Quindío': -75.640083,\n",
    "    'Caquetá': -73.813004,\n",
    "    'Sucre': -74.721390,\n",
    "    'Guainía': -67.566940, \n",
    "    'La Guajira': -72.388634,\n",
    "    'Boyacá': -73.362480,\n",
    "    'Cesar': -73.004791, \n",
    "    'Amazonas': -71.892921,\n",
    "    'San Andrés Providencia y Santa Catalina': -81.717900,\n",
    "    'Casanare': -71.456268,\n",
    "    'Vichada': -69.414350,\n",
    "    'Córdoba': -74.826302,\n",
    "    'Chocó': -76.944901\n",
    "}\n",
    "\n",
    "df_test['lon'] = df_test.lon.fillna(df_test.l2.map(dict_lon))\n",
    "df_test.drop('description',axis=1,inplace=True)"
   ]
  },
  {
   "cell_type": "code",
   "execution_count": 488,
   "metadata": {},
   "outputs": [],
   "source": [
    "df_test.to_csv('./Datasets_for_model/properties_colombia_test.csv',index=False)"
   ]
  }
 ],
 "metadata": {
  "kernelspec": {
   "display_name": "Python 3.10.6 ('venv': venv)",
   "language": "python",
   "name": "python3"
  },
  "language_info": {
   "codemirror_mode": {
    "name": "ipython",
    "version": 3
   },
   "file_extension": ".py",
   "mimetype": "text/x-python",
   "name": "python",
   "nbconvert_exporter": "python",
   "pygments_lexer": "ipython3",
   "version": "3.10.6"
  },
  "orig_nbformat": 4,
  "vscode": {
   "interpreter": {
    "hash": "dc1819e628f2a7de5c8b31a3314518698835457a39741493b32157ceb3e555b3"
   }
  }
 },
 "nbformat": 4,
 "nbformat_minor": 2
}
