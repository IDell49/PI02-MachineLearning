{
 "cells": [
  {
   "cell_type": "code",
   "execution_count": 536,
   "metadata": {},
   "outputs": [],
   "source": [
    "import pandas as pd\n",
    "import datetime as dt\n",
    "import numpy as np\n",
    "import seaborn as sns"
   ]
  },
  {
   "cell_type": "code",
   "execution_count": 537,
   "metadata": {},
   "outputs": [],
   "source": [
    "df_train = pd.read_csv('../Datathon/properties_colombia/properties_colombia_train.csv')\n",
    "df_test = pd.read_csv('../Datathon/properties_colombia/properties_colombia_test.csv')"
   ]
  },
  {
   "cell_type": "code",
   "execution_count": 538,
   "metadata": {},
   "outputs": [
    {
     "name": "stdout",
     "output_type": "stream",
     "text": [
      "<class 'pandas.core.frame.DataFrame'>\n",
      "RangeIndex: 197549 entries, 0 to 197548\n",
      "Data columns (total 27 columns):\n",
      " #   Column           Non-Null Count   Dtype  \n",
      "---  ------           --------------   -----  \n",
      " 0   Unnamed: 0       197549 non-null  int64  \n",
      " 1   id               197549 non-null  object \n",
      " 2   ad_type          197549 non-null  object \n",
      " 3   start_date       197549 non-null  object \n",
      " 4   end_date         197549 non-null  object \n",
      " 5   created_on       197549 non-null  object \n",
      " 6   lat              148051 non-null  float64\n",
      " 7   lon              148051 non-null  float64\n",
      " 8   l1               197549 non-null  object \n",
      " 9   l2               197549 non-null  object \n",
      " 10  l3               186517 non-null  object \n",
      " 11  l4               45367 non-null   object \n",
      " 12  l5               27409 non-null   object \n",
      " 13  l6               6867 non-null    object \n",
      " 14  rooms            27537 non-null   float64\n",
      " 15  bedrooms         40525 non-null   float64\n",
      " 16  bathrooms        156467 non-null  float64\n",
      " 17  surface_total    6974 non-null    float64\n",
      " 18  surface_covered  9802 non-null    float64\n",
      " 19  price            197486 non-null  float64\n",
      " 20  currency         197482 non-null  object \n",
      " 21  price_period     35971 non-null   object \n",
      " 22  title            197548 non-null  object \n",
      " 23  description      197428 non-null  object \n",
      " 24  property_type    197549 non-null  object \n",
      " 25  operation_type   197549 non-null  object \n",
      " 26  geometry         197549 non-null  object \n",
      "dtypes: float64(8), int64(1), object(18)\n",
      "memory usage: 40.7+ MB\n"
     ]
    }
   ],
   "source": [
    "#Let's see what features we have\n",
    "df_train.info()"
   ]
  },
  {
   "cell_type": "code",
   "execution_count": 539,
   "metadata": {},
   "outputs": [],
   "source": [
    "# 'Unnamed: 0': Drop it as it doesn't mean anything \n",
    "df_train.drop('Unnamed: 0', axis=1,inplace=True)"
   ]
  },
  {
   "cell_type": "code",
   "execution_count": 540,
   "metadata": {},
   "outputs": [],
   "source": [
    "# 'id': as id has no repeated values, and no correlation to the property price, we can just delete it\n",
    "df_train.drop('id',axis=1,inplace=True)"
   ]
  },
  {
   "cell_type": "code",
   "execution_count": 541,
   "metadata": {},
   "outputs": [],
   "source": [
    "# 'ad_type': As it only has 1 unique value, it doesn't contribute to the target feature in any way so we can get rid of it\n",
    "df_train['ad_type'].head(50).unique()\n",
    "df_train.drop('ad_type',axis=1,inplace=True)"
   ]
  },
  {
   "cell_type": "code",
   "execution_count": 542,
   "metadata": {},
   "outputs": [],
   "source": [
    "# 'start_date': Leave it, but we shouldn't care about the date of the advert as inflation is different year by year and if\n",
    "#we want to create a model that can predict the future inflation in Latin America is something out of control, so I think it's\n",
    "#best if we focus on other features, for example: the amount of days the ad has been online\n",
    "df_train['start_date'] = pd.to_datetime(df_train['start_date'])"
   ]
  },
  {
   "cell_type": "code",
   "execution_count": 543,
   "metadata": {},
   "outputs": [
    {
     "name": "stdout",
     "output_type": "stream",
     "text": [
      "9999-12-31    11974\n",
      "2020-08-27     4059\n",
      "2020-11-13     3818\n",
      "2020-11-30     2871\n",
      "2020-07-27     2700\n",
      "              ...  \n",
      "2021-08-16        2\n",
      "2021-09-26        2\n",
      "2021-10-03        1\n",
      "2021-07-04        1\n",
      "2021-06-20        1\n",
      "Name: end_date, Length: 446, dtype: int64\n"
     ]
    }
   ],
   "source": [
    "# 'end_date': Has no use on it's own, but it can be used with start_date to see how long the ad has been online\n",
    "print(df_train['end_date'].value_counts())\n",
    "\n",
    "# Here we can see the value '9999-12-31' is repeated way more than the rest so we can analyze it as the maximum value possible in\n",
    "#the ad, '2022-12-31', we could also just delete this but as it's almost 10% of our data we would leave a huge gap that would\n",
    "#propagate into the 'total_days' column we will create later.\n",
    "\n",
    "# Convert the column into datetime, if we don't raise a errors the year 9999 seen in value counts will raise an error, so we pass\n",
    "#the argument 'coerce' to change it into NaT so we can make the decision later with what to do with these useless values\n",
    "df_train['end_date'] = pd.to_datetime(df_train['end_date'],errors='coerce')\n",
    "\n",
    "# I came into the conclusion that the max day was picked, and as this dataset comes from 2020-2021 we can safely assume we can \n",
    "#pick the max date from 2021 = '2021-12-31' \n",
    "df_train['end_date'].max()\n",
    "df_train['end_date'] = df_train['end_date'].fillna(dt.datetime(2021,12,31))"
   ]
  },
  {
   "cell_type": "code",
   "execution_count": 544,
   "metadata": {},
   "outputs": [
    {
     "name": "stdout",
     "output_type": "stream",
     "text": [
      "(197549, 24)\n"
     ]
    }
   ],
   "source": [
    "# 'created_on\": as there are no repeated IDs we can just get rid of 'created_on' as it's a 1 for 1 copy of 'start_date'\n",
    "print(df_train.shape)\n",
    "df_train[df_train['start_date'] == df_train['created_on']].shape\n",
    "\n",
    "df_train.drop('created_on',axis=1,inplace=True)"
   ]
  },
  {
   "cell_type": "markdown",
   "metadata": {},
   "source": [
    "    Latitude and Longitude ------------------------------------------------------------------------------------------"
   ]
  },
  {
   "cell_type": "code",
   "execution_count": 545,
   "metadata": {},
   "outputs": [
    {
     "name": "stderr",
     "output_type": "stream",
     "text": [
      "c:\\Users\\ivand\\AppData\\Local\\Programs\\Python\\Python310\\lib\\site-packages\\seaborn\\_decorators.py:36: FutureWarning: Pass the following variables as keyword args: x, y. From version 0.12, the only valid positional argument will be `data`, and passing other arguments without an explicit keyword will result in an error or misinterpretation.\n",
      "  warnings.warn(\n"
     ]
    },
    {
     "data": {
      "image/png": "[encoded data removed]",
      "text/plain": [
       "<Figure size 432x288 with 1 Axes>"
      ]
     },
     "metadata": {
      "needs_background": "light"
     },
     "output_type": "display_data"
    }
   ],
   "source": [
    "sns.scatterplot(df_train.lon,df_train.lat)\n",
    "# We can see in the scatterplot that there are 2 outliers in our data, so let's research them\n",
    "# here you can see the bottom outlier: df_train[df_train.lat == df_train.lat.min()]\n",
    "# here you can see the top outlier: df_train[df_train.lat == df_train.lat.max()]\n",
    "# If we insert this coordinates into a tool to find the location on the world map, we get a location in Chile and USA, \n",
    "#so it's useless in our research and we can drop it\n",
    "df_train.drop(df_train.loc[df_train['lat'] == df_train.lat.min()].index,inplace=True)\n",
    "df_train.drop(df_train.loc[df_train['lat'] == df_train.lat.max()].index,inplace=True)"
   ]
  },
  {
   "cell_type": "code",
   "execution_count": 546,
   "metadata": {},
   "outputs": [
    {
     "name": "stdout",
     "output_type": "stream",
     "text": [
      "Null values: 49498\n",
      "Null values: 0\n"
     ]
    }
   ],
   "source": [
    "# 'lat': In latitude we can use 'L2'(state) as a reference to fill up the null values \n",
    "print('Null values:',df_train.lat.isna().sum())\n",
    "dict_lat = {\n",
    "    'Antioquia': 7.154030,\n",
    "    'Atlántico': 10.987760,\n",
    "    'Cundinamarca': 4.781800,\n",
    "    'Meta': 3.2720,\n",
    "    'Valle del Cauca': 3.858560,\n",
    "    'Caldas': 6.090000,\n",
    "    'Risaralda': 4.606880,\n",
    "    'Magdalena': 10.249170,\n",
    "    'Santander': -0.622170,\n",
    "    'Cauca': 8.252500,\n",
    "    'Huila': 3.376450,\n",
    "    'Bolívar': 1.833650,\n",
    "    'Tolima': 4.034880,\n",
    "    'Norte de Santander': 8.084580,\n",
    "    'Quindío': 4.396070,\n",
    "    'Caquetá': 1.113340,\n",
    "    'Sucre': 8.811250,\n",
    "    'Guainía': 2.719020,\n",
    "    'La Guajira': 11.427780,\n",
    "    'Boyacá': 5.453740,\n",
    "    'Cesar': 10.769930, \n",
    "    'Amazonas': -2.056290,\n",
    "    'San Andrés Providencia y Santa Catalina': 12.542720,\n",
    "    'Casanare': 5.296580,\n",
    "    'Vichada': 4.712170,\n",
    "    'Córdoba': 9.586680,\n",
    "    'Chocó': 6.320330\n",
    "}\n",
    "\n",
    "df_train['lat'] = df_train.lat.fillna(df_train.l2.map(dict_lat))\n",
    "print('Null values:',df_train.lat.isna().sum())"
   ]
  },
  {
   "cell_type": "code",
   "execution_count": 547,
   "metadata": {},
   "outputs": [
    {
     "name": "stdout",
     "output_type": "stream",
     "text": [
      "Null values: 49498\n",
      "Null values: 0\n"
     ]
    }
   ],
   "source": [
    "# 'lon': In longitude we can use 'L2'(state) as a reference to fill up the null values \n",
    "print('Null values:',df_train.lon.isna().sum())\n",
    "dict_lon = {\n",
    "    'Antioquia': -75.503349,\n",
    "    'Atlántico': -74.954620,\n",
    "    'Cundinamarca': -73.970757,\n",
    "    'Meta': -73.0877,\n",
    "    'Valle del Cauca': -76.519810,\n",
    "    'Caldas': -75.636627,\n",
    "    'Risaralda': -74.071840,\n",
    "    'Magdalena': -74.261080,\n",
    "    'Santander': -72.382812,\n",
    "    'Cauca': -74.722893,\n",
    "    'Huila': -74.802391,\n",
    "    'Bolívar': -76.967293,\n",
    "    'Tolima': -75.255890,\n",
    "    'Norte de Santander': -72.842781,\n",
    "    'Quindío': -75.640083,\n",
    "    'Caquetá': -73.813004,\n",
    "    'Sucre': -74.721390,\n",
    "    'Guainía': -67.566940, \n",
    "    'La Guajira': -72.388634,\n",
    "    'Boyacá': -73.362480,\n",
    "    'Cesar': -73.004791, \n",
    "    'Amazonas': -71.892921,\n",
    "    'San Andrés Providencia y Santa Catalina': -81.717900,\n",
    "    'Casanare': -71.456268,\n",
    "    'Vichada': -69.414350,\n",
    "    'Córdoba': -74.826302,\n",
    "    'Chocó': -76.944901\n",
    "}\n",
    "\n",
    "df_train['lon'] = df_train.lon.fillna(df_train.l2.map(dict_lon))\n",
    "print('Null values:',df_train.lon.isna().sum())"
   ]
  },
  {
   "cell_type": "code",
   "execution_count": 566,
   "metadata": {},
   "outputs": [
    {
     "name": "stderr",
     "output_type": "stream",
     "text": [
      "c:\\Users\\ivand\\AppData\\Local\\Programs\\Python\\Python310\\lib\\site-packages\\seaborn\\_decorators.py:36: FutureWarning: Pass the following variables as keyword args: x, y. From version 0.12, the only valid positional argument will be `data`, and passing other arguments without an explicit keyword will result in an error or misinterpretation.\n",
      "  warnings.warn(\n"
     ]
    },
    {
     "data": {
      "text/plain": [
       "<AxesSubplot:xlabel='lon', ylabel='lat'>"
      ]
     },
     "execution_count": 566,
     "metadata": {},
     "output_type": "execute_result"
    },
    {
     "data": {
      "image/png": "[encoded data removed]",
      "text/plain": [
       "<Figure size 432x288 with 1 Axes>"
      ]
     },
     "metadata": {
      "needs_background": "light"
     },
     "output_type": "display_data"
    }
   ],
   "source": [
    "# Now the scatterplot is in a much closer range and not outliers are seen\n",
    "sns.scatterplot(df_train.lon,df_train.lat)"
   ]
  },
  {
   "cell_type": "markdown",
   "metadata": {},
   "source": [
    "    ------------------------------------------------------------------------------------------------------------------"
   ]
  },
  {
   "cell_type": "code",
   "execution_count": 567,
   "metadata": {},
   "outputs": [
    {
     "name": "stdout",
     "output_type": "stream",
     "text": [
      "['Colombia']\n"
     ]
    }
   ],
   "source": [
    "# 'l1': Having information on what country we're situated in is useless as this dataset is situated in Colombia already\n",
    "print(df_train.l1.unique())\n",
    "df_train.drop('l1',axis=1,inplace=True)"
   ]
  },
  {
   "cell_type": "code",
   "execution_count": 586,
   "metadata": {},
   "outputs": [
    {
     "data": {
      "text/plain": [
       "True"
      ]
     },
     "execution_count": 586,
     "metadata": {},
     "output_type": "execute_result"
    }
   ],
   "source": [
    "# 'l2': Here I check that it has all the states in Colombia.\n",
    "Departamentos_colombianos = ['Amazonas','Antioquia','Arauca','Atlántico','Bolívar','Boyacá','Caldas','Caquetá',\n",
    "'Casanare','Cauca','Cesar','Chocó','Córdoba','Cundinamarca','Guainía','Guaviare','Huila','La Guajira','Magdalena',\n",
    "'Meta','Nariño','Norte de Santander','Putumayo','Quindí','Risarald','San Andrés y Providencia','Santander','Sucre','Tolima',\n",
    "'Valle del Cauca','Vaupé','Vichada']\n",
    "\n",
    "result = any(e in list(df_train.l2.unique()) for e in Departamentos_colombianos )\n",
    "\n",
    "result "
   ]
  },
  {
   "cell_type": "code",
   "execution_count": 588,
   "metadata": {},
   "outputs": [
    {
     "data": {
      "text/plain": [
       "array(['Medellín', 'Bogotá D.C', 'Bucaramanga', 'Manizales',\n",
       "       'Barranquilla', 'Cali', nan, 'Montería', 'Palmira', 'Popayán',\n",
       "       'Simijaca', 'Piedecuesta', 'Villavicencio', 'Soacha', 'Cúcuta',\n",
       "       'Cartago', 'Jamundí', 'Pereira', 'Puerto López', 'Zipaquirá',\n",
       "       'Cogua', 'Rionegro', 'Vijes', 'Cartagena', 'Santa Marta', 'Ibagué',\n",
       "       'Floridablanca', 'Bello', 'Armenia', 'Silvania', 'Tocancipá',\n",
       "       'Chía', 'Barbosa', 'Palestina', 'La Ceja', 'Sabaneta', 'Envigado',\n",
       "       'Dagua', 'Neiva', 'Cota', 'Guarne', 'San Francisco', 'Tocaima',\n",
       "       'Cajicá', 'Tuluá', 'Barrancabermeja', 'Marinilla', 'Girardot',\n",
       "       'Tunja', 'Funza', 'La Cumbre', 'Durania', 'Itagui', 'Soledad',\n",
       "       'Melgar', 'Saldaña', 'La Estrella', 'Fusagasugá', 'Nemocón',\n",
       "       'Malambo', 'Tabio', 'Paipa', 'Mosquera', 'Caldas', 'Arbeláez',\n",
       "       'La Calera', 'Girón', 'Flandes', 'Guatapé', 'Sesquilé',\n",
       "       'Sabanalarga', 'Turbo', 'Subachoque', 'Yopal', 'Carmen de Apicalá',\n",
       "       'Sibaté', 'Copacabana', 'Anapoima', 'Sasaima', 'Viterbo', 'Guamal',\n",
       "       'San Jerónimo', 'Facatativá', 'Rivera', 'Galapa', 'Nocaima',\n",
       "       'Candelaria', 'Riofrío', 'Madrid', 'Viotá', 'La Mesa',\n",
       "       'Juan de Acosta', 'Florencia', 'Anolaima', 'Colombia', 'Yumbo',\n",
       "       'Inírida', 'Restrepo', 'Chaparral', 'Venecia', 'Santa Catalina',\n",
       "       'Espinal', 'Los Santos', 'La Tebaida', 'Pradera', 'Andalucía',\n",
       "       'Puerto Colombia', 'La Florida', 'Tenjo', 'San Onofre', 'Duitama',\n",
       "       'San Gil', 'Sopetrán', 'Tubará', 'Sopó', 'Ricaurte',\n",
       "       'Santiago de Tolú', 'Carmen de Carupa', 'Turbaco',\n",
       "       'Villa del Rosario', 'El Peñón', 'El Cerrito', 'Gachancipá',\n",
       "       'Guaduas', 'Garzón', 'Marsella', 'Girardota', 'Apulo',\n",
       "       'Valledupar', 'Sogamoso', 'Puerto Wilches', 'Fresno', 'Nilo',\n",
       "       'Guasca', 'Baranoa', 'Filandia', 'Los Patios', 'Jardín',\n",
       "       'Montenegro', 'Bojacá', 'El Rosal', 'Salento', 'Moniquirá',\n",
       "       'Neira', 'Sahagún', 'El Colegio', 'Tibacuy', 'Alvarado', 'Piedras',\n",
       "       'Chinácota', 'Villeta', 'Providencia', 'Ipiales', 'Pitalito',\n",
       "       'Socorro', 'Paz de Ariporo', 'Calima', 'Villamaría', 'Sutatausa',\n",
       "       'Arjona', 'Gómez Plata', 'Santa Rosa', 'Granada', 'Honda',\n",
       "       'Dibulla', 'Líbano', 'Palmar de Varela', 'La Virginia', 'Medina',\n",
       "       'San Rafael', 'Zarzal', 'Yotoco', 'Manzanares',\n",
       "       'Santa Rosa de Cabal', 'Pacho', 'Leticia', 'Tauramena', 'Quimbaya',\n",
       "       'La Vega', 'Santafé de Antioquia', 'Abejorral', 'Puerto Salgar',\n",
       "       'Albania', 'Macheta', 'Fredonia', 'Acacías', 'Guamo',\n",
       "       'San Antonio del Tequendama', 'Guacarí', 'Suesca', 'Coveñas',\n",
       "       'Retiro', 'San Andrés', 'Salamina', 'Chocontá',\n",
       "       'El Carmen de Viboral', 'Lebríja', 'Zipacón', 'Planeta Rica',\n",
       "       'Guatavita', 'Coello', 'Villa de Leyva', 'San Juan de Arama',\n",
       "       'Hispania', 'Tena', 'Pandi', 'Puerto Parra', 'Chipaque',\n",
       "       'San Martín', 'Supatá', 'Agua de Dios', 'Jenesano', 'Venadillo',\n",
       "       'Guadalajara de Buga', 'Chigorodó', 'San Bernardo',\n",
       "       'Puerto Lleras', 'Puerto Triunfo', 'Mariquita', 'Villanueva',\n",
       "       'Aipe', 'Puerto Boyacá', 'Chiquinquirá', 'Purificación',\n",
       "       'Barichara', 'Bochalema', 'Santa Sofía', 'Balboa', 'Cachipay',\n",
       "       'Aguazul', 'Maní', 'Palermo', 'Santa Rita', 'Acandí', 'Caparrapí',\n",
       "       'Pinchote', 'Clemencia', 'San Luis', 'Vianí', 'Sincelejo',\n",
       "       'Icononzo', 'Albán', 'Tausa', 'Casabianca', 'Turbaná', 'Orocué',\n",
       "       'San Juan de Rioseco', 'Anserma', 'Santagueda', 'Pore', 'Calarca',\n",
       "       'Florida', 'Trujillo', 'Circasia', 'Puerto Carreño', 'Cimitarra',\n",
       "       'Sutamarchán', 'Dos Quebradas', 'Sabanagrande', 'Victoria',\n",
       "       'Villapinzón', 'Tibaná', 'La Plata', 'San Cayetano', 'Curití',\n",
       "       'Tibasosa', 'Zapatoca', 'Cucunubá', 'San Marcos', 'Lérida',\n",
       "       'Prado', 'San Pedro de Uraba', 'Chinauta', 'Génova', 'Cabrera',\n",
       "       'San Carlos de Guaroa', 'Guayabal de Siquima', 'Riohacha',\n",
       "       'Caicedonia', 'Arauca', 'Pasto', 'San Alberto', 'Guateque',\n",
       "       'Buesaco', 'Choachí', 'Buenaventura', 'Arcabuco', 'Puerto Gaitán',\n",
       "       'Suárez', 'Vergara', 'Yacopí', 'La Dorada', 'Cunday',\n",
       "       'Quebradanegra'], dtype=object)"
      ]
     },
     "execution_count": 588,
     "metadata": {},
     "output_type": "execute_result"
    }
   ],
   "source": [
    "# 'l3': Here there really isn't a way to check if all these cities are Colombian as we're going into way less defined territory\n",
    "#so what I do is just look at all the unique values by eye as it's not big enough yet, to see if there is a wrongly inputted name\n",
    "df_train.l3.unique()"
   ]
  },
  {
   "cell_type": "code",
   "execution_count": 601,
   "metadata": {},
   "outputs": [
    {
     "name": "stdout",
     "output_type": "stream",
     "text": [
      "Nulls: 152180\n",
      "Unique values: 58\n"
     ]
    }
   ],
   "source": [
    "# 'l4': The amount of neighbourhoods is not even close to the real one, AND we have high amount of nulls\n",
    "print('Nulls:',df_train[df_train.l4.isna()].shape[0])\n",
    "print('Unique values:', df_train.l4.nunique())"
   ]
  },
  {
   "cell_type": "code",
   "execution_count": 602,
   "metadata": {},
   "outputs": [
    {
     "name": "stdout",
     "output_type": "stream",
     "text": [
      "Nulls: 170138\n",
      "Unique values: 20\n"
     ]
    }
   ],
   "source": [
    "# 'l5': same as 'l4'\n",
    "print('Nulls:',df_train[df_train.l5.isna()].shape[0])\n",
    "print('Unique values:', df_train.l5.nunique())"
   ]
  },
  {
   "cell_type": "code",
   "execution_count": 603,
   "metadata": {},
   "outputs": [
    {
     "name": "stdout",
     "output_type": "stream",
     "text": [
      "Nulls: 190680\n",
      "Unique values: 146\n"
     ]
    }
   ],
   "source": [
    "# 'l6': same as 'l4'\n",
    "print('Nulls:',df_train[df_train.l6.isna()].shape[0])\n",
    "print('Unique values:', df_train.l6.nunique())"
   ]
  },
  {
   "cell_type": "markdown",
   "metadata": {},
   "source": [
    "    Property Rooms ---------------------"
   ]
  },
  {
   "cell_type": "code",
   "execution_count": 610,
   "metadata": {},
   "outputs": [
    {
     "name": "stdout",
     "output_type": "stream",
     "text": [
      "Nulls: 170012\n"
     ]
    }
   ],
   "source": [
    "# 'rooms':\n",
    "print('Nulls:',df_train[df_train.rooms.isna()].shape[0])"
   ]
  },
  {
   "cell_type": "code",
   "execution_count": 612,
   "metadata": {},
   "outputs": [
    {
     "name": "stdout",
     "output_type": "stream",
     "text": [
      "Nulls: 157022\n"
     ]
    }
   ],
   "source": [
    "# 'bedrooms':\n",
    "print('Nulls:',df_train[df_train.bedrooms.isna()].shape[0])"
   ]
  },
  {
   "cell_type": "code",
   "execution_count": null,
   "metadata": {},
   "outputs": [],
   "source": [
    "# 'bathrooms':"
   ]
  },
  {
   "cell_type": "markdown",
   "metadata": {},
   "source": [
    "    ------------------------------------------------------------------------------------------------------------------"
   ]
  },
  {
   "cell_type": "code",
   "execution_count": 556,
   "metadata": {},
   "outputs": [],
   "source": [
    "# 'surface_total':"
   ]
  },
  {
   "cell_type": "code",
   "execution_count": 557,
   "metadata": {},
   "outputs": [],
   "source": [
    "# 'surface_covered':"
   ]
  },
  {
   "cell_type": "code",
   "execution_count": 558,
   "metadata": {},
   "outputs": [],
   "source": [
    "# 'price':"
   ]
  },
  {
   "cell_type": "code",
   "execution_count": 559,
   "metadata": {},
   "outputs": [],
   "source": [
    "# 'currency':"
   ]
  },
  {
   "cell_type": "code",
   "execution_count": 560,
   "metadata": {},
   "outputs": [],
   "source": [
    "# 'price_period':\n"
   ]
  },
  {
   "cell_type": "code",
   "execution_count": 561,
   "metadata": {},
   "outputs": [
    {
     "data": {
      "text/plain": [
       "0         Hermosa Mansión En El Poblado. Área Construida...\n",
       "1          APARTAMENTO EN VENTA, BOGOTA-CIUDAD JARDIN NORTE\n",
       "2         Apartamento En Venta En Bogota Bella Suiza Cod...\n",
       "3         SE VENDE LOCAL COMERCIAL EN CABECERA DEL LLANO...\n",
       "4                    Apartamento en Venta Ubicado en ITAGUI\n",
       "                                ...                        \n",
       "197544           LM: VENDO APARTAMENTO EN TORRES DE TINTALA\n",
       "197545    Oficina En Venta En Bogota El Retiro Cod. VREI...\n",
       "197546    Local En Venta En Cali Nueva Tequendama CodVBS...\n",
       "197547                              VENTA CASALOTE FONTIBON\n",
       "197548    1 Apartamento en remate aprovecha nuestras ofe...\n",
       "Name: title, Length: 197547, dtype: object"
      ]
     },
     "execution_count": 561,
     "metadata": {},
     "output_type": "execute_result"
    }
   ],
   "source": [
    "# 'title':\n",
    "df_train['title']"
   ]
  },
  {
   "cell_type": "code",
   "execution_count": 562,
   "metadata": {},
   "outputs": [
    {
     "data": {
      "text/plain": [
       "\"<b>Hermosa Mansión En El Poblado. Área Construida. 900m2.</b><br><br>Hermosa Mansi&oacute;n En El Poblado.<br />\\n<br />\\n2 Niveles y s&oacute;tano:<br />\\n<br />\\n1er Niver<br />\\nSal&oacute;n<br />\\nComedor <br />\\nCocina abierta con isla<br />\\nDeck abierto con piscina infinita con vista a la ciudad<br />\\nJacuzzi<br />\\nZona BBQ<br />\\nGimnasio<br />\\nZona de ropas<br />\\nAlacena<br />\\nParqueadero cubierto para 6 carros<br />\\nCuarto &Uacute;til externo<br />\\n<br />\\n2do Nivel<br />\\n<br />\\n3 Habitaciones con ba&ntilde;o y vestier<br />\\nJacuzzi<br />\\nBalc&oacute;n <br />\\nSala de cine<br />\\nBiblioteca<br />\\n<br />\\nTiene adicional cancha de microfutbol en grama natura<br />\\nTiene cine privado dentro de la mansi&oacute;n<br />\\n<br />\\nSotano: <br />\\nEspacio multiple para juegos de mesa <br />\\nHabitaciones adicionales<br />\\nBa&ntilde;o<br />\\nInstalaciones de acueducto <br />\\nEnerg&iacute;a suficiente<br />\\n<br />\\nSus alrededores est&aacute;n dotadas de un bonito jard&iacute;n<br />\\nHuerta casera<br />\\nPerrera <br />\\n<br />\\n&Aacute;rea Total: 2,154m2<br />\\n&Aacute;rea Construida: 900m2<br />\\n<br />\\n 9.000'000.0000<br />\\nNEGOCIABLES!!!<br />\\n<br />\\nCOMERCIO DE PROPIEDADES - DISE&Ntilde;O Y SISTEMAS CONSTRUCTIVOS - GERENCIA Y PROMOCI&Oacute;N DE PROYECTOS INMOBILIARIOS.<br />\\n<br />\\nCotizamos en 3 sistemas constructivos: <br />\\nConstrucci&oacute;n Tradicional, Modular y Durapanel.<br />\\n<br />\\nCont&aacute;ctenos para mas informaci&oacute;n.<br /><br><br> Características adicionales: <br>  <br><br> Ref#626843.\""
      ]
     },
     "execution_count": 562,
     "metadata": {},
     "output_type": "execute_result"
    }
   ],
   "source": [
    "# 'description':\n",
    "df_train['description'][0]"
   ]
  },
  {
   "cell_type": "code",
   "execution_count": 563,
   "metadata": {},
   "outputs": [],
   "source": [
    "# 'property_type':"
   ]
  },
  {
   "cell_type": "code",
   "execution_count": 564,
   "metadata": {},
   "outputs": [],
   "source": [
    "# 'operation_type':"
   ]
  },
  {
   "cell_type": "code",
   "execution_count": 565,
   "metadata": {},
   "outputs": [],
   "source": [
    "# 'geometry':"
   ]
  }
 ],
 "metadata": {
  "kernelspec": {
   "display_name": "Python 3.10.6 64-bit",
   "language": "python",
   "name": "python3"
  },
  "language_info": {
   "codemirror_mode": {
    "name": "ipython",
    "version": 3
   },
   "file_extension": ".py",
   "mimetype": "text/x-python",
   "name": "python",
   "nbconvert_exporter": "python",
   "pygments_lexer": "ipython3",
   "version": "3.10.6"
  },
  "orig_nbformat": 4,
  "vscode": {
   "interpreter": {
    "hash": "094a549651efc0b4dea3a94ef4bb6abb10518fbda12c888a38685dccc600c960"
   }
  }
 },
 "nbformat": 4,
 "nbformat_minor": 2
}
