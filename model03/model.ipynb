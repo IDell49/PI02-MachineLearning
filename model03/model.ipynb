{
 "cells": [
  {
   "cell_type": "markdown",
   "metadata": {},
   "source": [
    "# Random Forest model\n",
    "\n",
    "here you'll not see any improvement over randomtreeclassifier as the tree has no trouble making predictions on it's own and what ends up happening is that multiple trees come to the same conclussion "
   ]
  },
  {
   "cell_type": "code",
   "execution_count": 8,
   "metadata": {},
   "outputs": [],
   "source": [
    "import pandas as pd\n",
    "from sklearn.ensemble import RandomForestClassifier\n",
    "from sklearn.model_selection import train_test_split\n",
    "from sklearn.metrics import recall_score\n",
    "import seaborn as sns"
   ]
  },
  {
   "cell_type": "code",
   "execution_count": 2,
   "metadata": {},
   "outputs": [],
   "source": [
    "df_train = pd.read_csv('../Datasets_for_model/properties_colombia_train.csv')\n",
    "df_test = pd.read_csv('../Datasets_for_model/properties_colombia_test.csv')"
   ]
  },
  {
   "cell_type": "code",
   "execution_count": 3,
   "metadata": {},
   "outputs": [],
   "source": [
    "#1) create target feature, which will be the result of price being equal or above the mean\n",
    "df_train.loc[df_train['price'] <  df_train.price.mean(), 'target'] = int(0)\n",
    "df_train.loc[df_train['price'] >= df_train.price.mean(), 'target'] = int(1)"
   ]
  },
  {
   "cell_type": "code",
   "execution_count": 4,
   "metadata": {},
   "outputs": [],
   "source": [
    "#2) drop null rows in bathrooms\n",
    "df_train.drop(df_train.loc[df_train.bathrooms.isna()].index, inplace=True)"
   ]
  },
  {
   "cell_type": "code",
   "execution_count": 5,
   "metadata": {},
   "outputs": [
    {
     "name": "stdout",
     "output_type": "stream",
     "text": [
      "0.7909711684370258\n"
     ]
    }
   ],
   "source": [
    "#3) create the instance, #max_features didn't change anything at all, n_estimators too\n",
    "clf = RandomForestClassifier(n_estimators=100, n_jobs=-1, random_state = 42)\n",
    "X = df_train[['lat','lon','bathrooms','property_type']]\n",
    "y = df_train['target']\n",
    "#4) make train and test sets\n",
    "x_train, x_test, y_train, y_test = train_test_split(X, y, test_size=0.30, train_size=0.70, random_state=1982)\n",
    "#5) fit the train sets into the model\n",
    "clf.fit(x_train, y_train)\n",
    "y_test_pred = clf.predict(x_test)\n",
    "#6) let's see the recall score\n",
    "print(recall_score(y_test, y_test_pred))"
   ]
  },
  {
   "cell_type": "code",
   "execution_count": 6,
   "metadata": {},
   "outputs": [],
   "source": [
    "#7) export the predictions.csv\n",
    "df_test = pd.read_csv('../Datasets_for_model/properties_colombia_test.csv')\n",
    "#I fill up the null bathrooms with 0, as it can be mostly just a landscape with no bathrooms and because I have to keep the same number of rows for the prediction\n",
    "df_test.bathrooms.fillna(0,inplace=True)\n",
    "X = df_test[['lat','lon','bathrooms','property_type']]\n",
    "df_test['pred'] = clf.predict(X)\n",
    "pred = df_test['pred']"
   ]
  },
  {
   "cell_type": "code",
   "execution_count": 7,
   "metadata": {},
   "outputs": [],
   "source": [
    "if pred.shape[0] == 65850:\n",
    "    pred.to_csv('./IDell49.csv', index=False)"
   ]
  }
 ],
 "metadata": {
  "kernelspec": {
   "display_name": "Python 3.10.6 ('venv': venv)",
   "language": "python",
   "name": "python3"
  },
  "language_info": {
   "codemirror_mode": {
    "name": "ipython",
    "version": 3
   },
   "file_extension": ".py",
   "mimetype": "text/x-python",
   "name": "python",
   "nbconvert_exporter": "python",
   "pygments_lexer": "ipython3",
   "version": "3.10.6"
  },
  "orig_nbformat": 4,
  "vscode": {
   "interpreter": {
    "hash": "dc1819e628f2a7de5c8b31a3314518698835457a39741493b32157ceb3e555b3"
   }
  }
 },
 "nbformat": 4,
 "nbformat_minor": 2
}
